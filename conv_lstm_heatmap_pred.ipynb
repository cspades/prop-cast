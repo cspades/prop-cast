{
 "cells": [
  {
   "cell_type": "code",
   "execution_count": 0,
   "metadata": {
    "colab": {},
    "colab_type": "code",
    "id": "R-yvp8WLxTbL"
   },
   "outputs": [],
   "source": [
    "# Import libraries for ML.\n",
    "import numpy as np\n",
    "import tensorflow as tf\n",
    "from tensorflow import keras\n",
    "from keras.models import Sequential, Model\n",
    "from keras.layers import Input, Reshape, MaxPooling2D, TimeDistributed, LeakyReLU, concatenate, Permute\n",
    "from keras.layers.convolutional import Conv2D, Conv3D\n",
    "from keras.layers.convolutional_recurrent import ConvLSTM2D\n",
    "from keras.layers.normalization import BatchNormalization\n",
    "from keras.optimizers import SGD\n",
    "from keras.losses import mean_squared_error, logcosh\n",
    "from keras.callbacks import ModelCheckpoint\n",
    "from keras.models import load_model\n",
    "import matplotlib.pyplot as plt\n",
    "import os\n",
    "import random\n",
    "from tensorflow.python.util import deprecation\n",
    "deprecation._PRINT_DEPRECATION_WARNINGS = False"
   ]
  },
  {
   "cell_type": "code",
   "execution_count": 0,
   "metadata": {
    "colab": {
     "base_uri": "https://localhost:8080/",
     "height": 34
    },
    "colab_type": "code",
    "id": "1Cv0h1qKMG3b",
    "outputId": "9055168a-17be-4c63-d736-239c98bed7f3"
   },
   "outputs": [
    {
     "name": "stdout",
     "output_type": "stream",
     "text": [
      "Mounted at /content/drive\n"
     ]
    }
   ],
   "source": [
    "# Mount Google Drive to import dataset.\n",
    "from google.colab import drive\n",
    "drive.mount('/content/drive', force_remount=True)"
   ]
  },
  {
   "cell_type": "code",
   "execution_count": 0,
   "metadata": {
    "colab": {},
    "colab_type": "code",
    "id": "nopQB30XCRqv"
   },
   "outputs": [],
   "source": [
    "# Set data constants for the tensor of dimension (N,T,S,S,K).\n",
    "N = 42      # Samples (Region, City, County, etc.) in Dataset\n",
    "T = 15      # Time Series Duration/Slices of Heatmaps\n",
    "S = 121     # Dimension/Size of Spatial Window of Heatmap\n",
    "K = 31      # Number of Features in the Dataset (i.e. Price, Size, etc.)"
   ]
  },
  {
   "cell_type": "code",
   "execution_count": 0,
   "metadata": {
    "colab": {
     "base_uri": "https://localhost:8080/",
     "height": 118
    },
    "colab_type": "code",
    "id": "BJt9JTexmyXG",
    "outputId": "050bd9cf-ef3c-4cd7-fc85-c920851fa226"
   },
   "outputs": [
    {
     "name": "stdout",
     "output_type": "stream",
     "text": [
      "Training Input Shape:  (38, 15, 121, 121, 31)\n",
      "Training Output Shape:  (38, 121, 121)\n",
      "Validation Input Shape:  (3, 15, 121, 121, 31)\n",
      "Validation Output Shape:  (3, 121, 121)\n",
      "Test Input Shape:  (1, 15, 121, 121, 31)\n",
      "Test Output Shape:  (1, 121, 121)\n"
     ]
    }
   ],
   "source": [
    "# PART I - Import and construct machine learning dataset.\n",
    "path = \"/content/drive/My Drive/colab_data_proc\"\n",
    "# Import and collect machine learning data to NumPy arrays.\n",
    "data_input = np.zeros((N,T,S,S,K), dtype=np.single)\n",
    "data_output = np.zeros((N,S,S), dtype=np.single)\n",
    "i, j = 0, 0\n",
    "for file in sorted(os.listdir(path)):\n",
    "  print(file)\n",
    "  # Extract input and output data. Reduce data precision to save memory.\n",
    "  if file.endswith(\"_input.npy\"):\n",
    "    data_input[i] = np.load(path + '/' + file).astype(np.single)\n",
    "    i += 1\n",
    "  elif file.endswith(\"_output.npy\"):\n",
    "    # Dispose of remainder data.\n",
    "    data_output[j] = np.load(path + '/' + file).astype(np.single)[0]\n",
    "    j += 1\n",
    "\n",
    "# Separate training and test data via index mask to save memory via Python referencing.\n",
    "# Randomly choose 6 sample regions for validation/testing. Other samples are for training.\n",
    "rand_idx = random.sample(range(N), 6)\n",
    "train_idx = sorted(list(set(range(N)) - set(rand_idx)))\n",
    "val_idx = sorted(rand_idx[:4])\n",
    "test_idx = sorted(rand_idx[4:])\n",
    "\n",
    "# # Alternative: Fix Los Angeles County as test set for time-series display in publication.\n",
    "# rand_idx = random.sample(set(range(N)) - set([3]), 3)\n",
    "# train_idx = sorted(list(set(range(N)) - set(rand_idx + [3])))\n",
    "# val_idx = sorted(rand_idx)\n",
    "# test_idx = [3]\n",
    "# # Export test data time-series as .csv. Isolate property value for heatmap. Los Angeles has index 3 in dataset.\n",
    "# la = \"/content/drive/My Drive/pred_results/pred_heatmap_LA/\"\n",
    "# for ts in range(T):\n",
    "#   np.savetxt(la + \"la_heatmap_ts_{}.csv\".format(ts+1), data_input[3, ts, :, :, 0], delimiter=\",\")\n",
    "\n",
    "# Print training, validation, and test indices. (Compare with dataset for regions.)\n",
    "print(train_idx)\n",
    "print(val_idx)\n",
    "print(test_idx)\n",
    "\n",
    "# Extract data as .npy file to avoid import process and rename data. Print data dimensions.\n",
    "np.save(\"/content/drive/My Drive/colab_train_data/x_train_ts_heatmap\", data_input[train_idx])\n",
    "print(\"Training Input Shape: \", data_input[train_idx].shape)\n",
    "np.save(\"/content/drive/My Drive/colab_train_data/y_train_ts_heatmap\", data_output[train_idx])\n",
    "print(\"Training Output Shape: \", data_output[train_idx].shape)\n",
    "np.save(\"/content/drive/My Drive/colab_train_data/x_val_ts_heatmap\", data_input[val_idx])\n",
    "print(\"Validation Input Shape: \", data_input[val_idx].shape)\n",
    "np.save(\"/content/drive/My Drive/colab_train_data/y_val_ts_heatmap\", data_output[val_idx])\n",
    "print(\"Validation Output Shape: \", data_output[val_idx].shape)\n",
    "np.save(\"/content/drive/My Drive/colab_train_data/x_test_ts_heatmap\", data_input[test_idx])\n",
    "print(\"Test Input Shape: \", data_input[test_idx].shape)\n",
    "np.save(\"/content/drive/My Drive/colab_train_data/y_test_ts_heatmap\", data_output[test_idx])\n",
    "print(\"Test Output Shape: \", data_output[test_idx].shape)\n",
    "\n",
    "# ------------------------------------------------------ #\n",
    "\n",
    "# PART II - Import previously saved data. \n",
    "# x_ has input dimension (:,T,S,S,K) and y_ has output dimension (:,S,S).\n",
    "path = \"/content/drive/My Drive/colab_train_data\"\n",
    "x_train = np.load(path + '/' + \"x_train_ts_heatmap.npy\")\n",
    "y_train = np.load(path + '/' + \"y_train_ts_heatmap.npy\")\n",
    "x_val = np.load(path + '/' + \"x_val_ts_heatmap.npy\")\n",
    "y_val = np.load(path + '/' + \"y_val_ts_heatmap.npy\")\n",
    "x_test = np.load(path + '/' + \"x_test_ts_heatmap.npy\")\n",
    "y_test = np.load(path + '/' + \"y_test_ts_heatmap.npy\")\n",
    "\n",
    "# Logarithmic and shift normalization due to incredibly diverse variance of (non-negative) data.\n",
    "eps = 1e-3\n",
    "x_train[:, :, :, :, [0,4,5,6,7,8,9]] = np.log(x_train[:, :, :, :, [0,4,5,6,7,8,9]] + eps + 1)\n",
    "x_train[:, :, :, :, 2] -= 2000\n",
    "y_train = np.log(y_train + eps + 1)\n",
    "x_val[:, :, :, :, [0,4,5,6,7,8,9]] = np.log(x_val[:, :, :, :, [0,4,5,6,7,8,9]] + eps + 1)\n",
    "x_val[:, :, :, :, 2] -= 2000\n",
    "y_val = np.log(y_val + eps + 1)\n",
    "x_test[:, :, :, :, [0,4,5,6,7,8,9]] = np.log(x_test[:, :, :, :, [0,4,5,6,7,8,9]] + eps + 1)\n",
    "x_test[:, :, :, :, 2] -= 2000\n",
    "\n",
    "# [DEBUG]\n",
    "# print(np.unravel_index(np.argmax(x_train, axis=None), x_train.shape))\n",
    "# print(np.max(x_train))\n",
    "# print(x_train[0, 0, 7, 0, :])\n",
    "\n",
    "# Print training and test data dimensions.\n",
    "print(\"Training Input Shape: \", x_train.shape)\n",
    "print(\"Training Output Shape: \", y_train.shape)\n",
    "print(\"Validation Input Shape: \", x_val.shape)\n",
    "print(\"Validation Output Shape: \", y_val.shape)\n",
    "print(\"Test Input Shape: \", x_test.shape)\n",
    "print(\"Test Output Shape: \", y_test.shape)"
   ]
  },
  {
   "cell_type": "code",
   "execution_count": 0,
   "metadata": {
    "colab": {},
    "colab_type": "code",
    "id": "barzCaSomrzN"
   },
   "outputs": [],
   "source": [
    "\"\"\"\n",
    "[Elementary Convolutional Inception Module]\n",
    "Apply supporting convolutional inception filters to learn spatial features \n",
    "from the weighted heatmap prior to application of LSTM.\n",
    "Utilized to construct an inception-convolutional LSTM.\n",
    "\"\"\"\n",
    "# Initialize and reshape input. Assume feature maps are time-invariant. \n",
    "input = Input(shape=(S, S, K))\n",
    "\n",
    "# Lightweight Convolutional Inception Module (5-Path Filter) for Feature Mixing\n",
    "t1 = Conv2D(32, (1, 1), padding='same', data_format='channels_last')(input)\n",
    "t2 = Conv2D(16, (3, 3), padding='same', data_format='channels_last')(input)\n",
    "t3 = Conv2D(8, (7, 7), padding='same', data_format='channels_last')(input)\n",
    "t4 = Conv2D(4, (11, 11), padding='same', data_format='channels_last')(input)\n",
    "t5 = MaxPooling2D(pool_size=(3,3), strides=(1,1), \n",
    "                  padding='same', data_format='channels_last')(input)\n",
    "\n",
    "# Compute output.\n",
    "output = concatenate([t1, t2, t3, t4, t5])\n",
    "\n",
    "# Construct layer/model.\n",
    "conv_incptn = Model(inputs=input, outputs=output)\n",
    "\"\"\"\n",
    "[Multi-Layer Inception-Convolutional LSTM Architecture for Housing Index Forecasting]\n",
    "Apply space-time convolutional LSTM layers via ConvLSTM2D.\n",
    "Input (N,T,S,S,K) -> [Incptn-Conv -> Conv-LSTM -> Batch Normalization] x 4\n",
    "                  -> Conv2D -> LeakyReLU -> Output (S,S) is a 2-D heatmap.\n",
    "(Derivation Source: https://arxiv.org/pdf/1909.05622.pdf)\n",
    "\"\"\"\n",
    "# Intialize a sequential model.\n",
    "incptn_conv_lstm = Sequential()\n",
    "\n",
    "# Insert a series of Conv-LSTM and Batch Normalization Layers.\n",
    "incptn_conv_lstm.add(TimeDistributed(conv_incptn, input_shape=(T, S, S, K)))\n",
    "incptn_conv_lstm.add(ConvLSTM2D(filters=K, kernel_size=(3, 3),\n",
    "                          padding='same', data_format='channels_last', \n",
    "                          return_sequences=True))\n",
    "incptn_conv_lstm.add(TimeDistributed(BatchNormalization()))\n",
    "incptn_conv_lstm.add(TimeDistributed(conv_incptn))\n",
    "incptn_conv_lstm.add(ConvLSTM2D(filters=K, kernel_size=(3, 3),\n",
    "                          padding='same', data_format='channels_last', \n",
    "                          return_sequences=True))\n",
    "incptn_conv_lstm.add(TimeDistributed(BatchNormalization()))\n",
    "incptn_conv_lstm.add(TimeDistributed(conv_incptn))\n",
    "incptn_conv_lstm.add(ConvLSTM2D(filters=K, kernel_size=(3, 3),\n",
    "                          padding='same', data_format='channels_last', \n",
    "                          return_sequences=True))\n",
    "incptn_conv_lstm.add(TimeDistributed(BatchNormalization()))\n",
    "incptn_conv_lstm.add(TimeDistributed(conv_incptn))\n",
    "incptn_conv_lstm.add(ConvLSTM2D(filters=K, kernel_size=(3, 3),\n",
    "                          padding='same', data_format='channels_last', \n",
    "                          return_sequences=False))\n",
    "incptn_conv_lstm.add(TimeDistributed(BatchNormalization()))\n",
    "\n",
    "# Conv2D layer to collapse filters.\n",
    "incptn_conv_lstm.add(Conv2D(filters=1, kernel_size=(3, 3), padding='same', data_format='channels_last'))\n",
    "\n",
    "# Reshape to heatmap.\n",
    "incptn_conv_lstm.add(Reshape((S, S)))\n",
    "\n",
    "# Weak LeakyReLU to avoid neuron death and approximate ReLU.\n",
    "incptn_conv_lstm.add(LeakyReLU(alpha=0.1))\n",
    "\n",
    "# Compile the model. Nesterov SGD with thresholded gradient and MSE Loss.\n",
    "incptn_conv_lstm.compile(optimizer=SGD(lr=2e-3, momentum=0.2, nesterov=True, clipnorm=0.25), loss=mean_squared_error)"
   ]
  },
  {
   "cell_type": "code",
   "execution_count": 0,
   "metadata": {
    "colab": {
     "base_uri": "https://localhost:8080/",
     "height": 655
    },
    "colab_type": "code",
    "id": "2ZQOxg2ipg-g",
    "outputId": "cea5d174-3fad-4abd-e796-3ca8d6b97ce9"
   },
   "outputs": [
    {
     "name": "stdout",
     "output_type": "stream",
     "text": [
      "Model: \"sequential_2\"\n",
      "_________________________________________________________________\n",
      "Layer (type)                 Output Shape              Param #   \n",
      "=================================================================\n",
      "time_distributed_9 (TimeDist (None, 15, 121, 121, 91)  32672     \n",
      "_________________________________________________________________\n",
      "conv_lst_m2d_5 (ConvLSTM2D)  (None, 15, 121, 121, 31)  136276    \n",
      "_________________________________________________________________\n",
      "time_distributed_10 (TimeDis (None, 15, 121, 121, 31)  124       \n",
      "_________________________________________________________________\n",
      "time_distributed_11 (TimeDis (None, 15, 121, 121, 91)  32672     \n",
      "_________________________________________________________________\n",
      "conv_lst_m2d_6 (ConvLSTM2D)  (None, 15, 121, 121, 31)  136276    \n",
      "_________________________________________________________________\n",
      "time_distributed_12 (TimeDis (None, 15, 121, 121, 31)  124       \n",
      "_________________________________________________________________\n",
      "time_distributed_13 (TimeDis (None, 15, 121, 121, 91)  32672     \n",
      "_________________________________________________________________\n",
      "conv_lst_m2d_7 (ConvLSTM2D)  (None, 15, 121, 121, 31)  136276    \n",
      "_________________________________________________________________\n",
      "time_distributed_14 (TimeDis (None, 15, 121, 121, 31)  124       \n",
      "_________________________________________________________________\n",
      "time_distributed_15 (TimeDis (None, 15, 121, 121, 91)  32672     \n",
      "_________________________________________________________________\n",
      "conv_lst_m2d_8 (ConvLSTM2D)  (None, 121, 121, 31)      136276    \n",
      "_________________________________________________________________\n",
      "time_distributed_16 (TimeDis (None, 121, 121, 31)      124       \n",
      "_________________________________________________________________\n",
      "conv2d_10 (Conv2D)           (None, 121, 121, 1)       280       \n",
      "_________________________________________________________________\n",
      "reshape_2 (Reshape)          (None, 121, 121)          0         \n",
      "_________________________________________________________________\n",
      "leaky_re_lu_2 (LeakyReLU)    (None, 121, 121)          0         \n",
      "=================================================================\n",
      "Total params: 578,552\n",
      "Trainable params: 578,304\n",
      "Non-trainable params: 248\n",
      "_________________________________________________________________\n"
     ]
    }
   ],
   "source": [
    "incptn_conv_lstm.summary()"
   ]
  },
  {
   "cell_type": "code",
   "execution_count": 0,
   "metadata": {
    "colab": {},
    "colab_type": "code",
    "id": "STuHLIre9bOA"
   },
   "outputs": [],
   "source": [
    "# Set model checkpoint to save the trained model.\n",
    "cp_path = \"/content/drive/My Drive/trained_models/incptn_conv_lstm\"\n",
    "cp_callback = ModelCheckpoint(filepath=cp_path, monitor='val_loss', save_weights_only=False, save_best_only=True, mode='min', period=1)"
   ]
  },
  {
   "cell_type": "code",
   "execution_count": 0,
   "metadata": {
    "colab": {},
    "colab_type": "code",
    "id": "iFs4QTI2AEZM"
   },
   "outputs": [],
   "source": [
    "# Load pre-trained model. (Overwrites un-trained model!)\n",
    "incptn_conv_lstm = load_model(cp_path)\n",
    "incptn_conv_lstm.summary()"
   ]
  },
  {
   "cell_type": "code",
   "execution_count": 0,
   "metadata": {
    "colab": {
     "base_uri": "https://localhost:8080/",
     "height": 1000
    },
    "colab_type": "code",
    "id": "dXYxHHx3yXMu",
    "outputId": "9ab90801-3050-414d-9f27-afaca28f483e"
   },
   "outputs": [
    {
     "name": "stdout",
     "output_type": "stream",
     "text": [
      "Train on 38 samples, validate on 3 samples\n",
      "Epoch 1/30\n",
      "38/38 [==============================] - 305s 8s/step - loss: 7.8075 - val_loss: 8.9248\n",
      "Epoch 2/30\n",
      "38/38 [==============================] - 259s 7s/step - loss: 7.7507 - val_loss: 5.1664\n",
      "Epoch 3/30\n",
      "38/38 [==============================] - 251s 7s/step - loss: 7.6286 - val_loss: 5.1781\n",
      "Epoch 4/30\n",
      "38/38 [==============================] - 250s 7s/step - loss: 7.5886 - val_loss: 5.1990\n",
      "Epoch 5/30\n",
      "38/38 [==============================] - 273s 7s/step - loss: 7.5531 - val_loss: 5.6312\n",
      "Epoch 6/30\n",
      "38/38 [==============================] - 275s 7s/step - loss: 7.5280 - val_loss: 5.2536\n",
      "Epoch 7/30\n",
      "38/38 [==============================] - 262s 7s/step - loss: 7.6215 - val_loss: 5.1172\n",
      "Epoch 8/30\n",
      "38/38 [==============================] - 280s 7s/step - loss: 7.4558 - val_loss: 5.0562\n",
      "Epoch 9/30\n",
      "38/38 [==============================] - 297s 8s/step - loss: 7.4393 - val_loss: 5.0163\n",
      "Epoch 10/30\n",
      "38/38 [==============================] - 263s 7s/step - loss: 7.4035 - val_loss: 5.0017\n",
      "Epoch 11/30\n",
      "38/38 [==============================] - 254s 7s/step - loss: 7.3588 - val_loss: 4.9172\n",
      "Epoch 12/30\n",
      "38/38 [==============================] - 249s 7s/step - loss: 7.3627 - val_loss: 4.9602\n",
      "Epoch 13/30\n",
      "38/38 [==============================] - 272s 7s/step - loss: 7.3349 - val_loss: 4.8496\n",
      "Epoch 14/30\n",
      "38/38 [==============================] - 274s 7s/step - loss: 7.2891 - val_loss: 4.8124\n",
      "Epoch 15/30\n",
      "38/38 [==============================] - 260s 7s/step - loss: 7.2593 - val_loss: 4.7946\n",
      "Epoch 16/30\n",
      "38/38 [==============================] - 258s 7s/step - loss: 7.2379 - val_loss: 4.8263\n",
      "Epoch 17/30\n",
      "38/38 [==============================] - 283s 7s/step - loss: 7.2643 - val_loss: 4.8322\n",
      "Epoch 18/30\n",
      "38/38 [==============================] - 257s 7s/step - loss: 7.2543 - val_loss: 4.8214\n",
      "Epoch 19/30\n",
      "38/38 [==============================] - 247s 7s/step - loss: 7.1876 - val_loss: 4.7636\n",
      "Epoch 20/30\n",
      "38/38 [==============================] - 251s 7s/step - loss: 7.2625 - val_loss: 4.7533\n",
      "Epoch 21/30\n",
      "38/38 [==============================] - 269s 7s/step - loss: 7.1688 - val_loss: 4.7348\n",
      "Epoch 22/30\n",
      "38/38 [==============================] - 288s 8s/step - loss: 7.1863 - val_loss: 4.6953\n",
      "Epoch 23/30\n",
      "38/38 [==============================] - 276s 7s/step - loss: 7.1376 - val_loss: 4.7109\n",
      "Epoch 24/30\n",
      "38/38 [==============================] - 277s 7s/step - loss: 7.1422 - val_loss: 4.6939\n",
      "Epoch 25/30\n",
      "38/38 [==============================] - 298s 8s/step - loss: 7.1578 - val_loss: 4.7537\n",
      "Epoch 26/30\n",
      "38/38 [==============================] - 273s 7s/step - loss: 7.1098 - val_loss: 5.3594\n",
      "Epoch 27/30\n",
      "38/38 [==============================] - 253s 7s/step - loss: 7.3998 - val_loss: 4.6568\n",
      "Epoch 28/30\n",
      "38/38 [==============================] - 256s 7s/step - loss: 7.1243 - val_loss: 4.8703\n",
      "Epoch 29/30\n",
      "38/38 [==============================] - 272s 7s/step - loss: 7.1579 - val_loss: 4.6919\n",
      "Epoch 30/30\n",
      "38/38 [==============================] - 277s 7s/step - loss: 7.0510 - val_loss: 4.6464\n"
     ]
    }
   ],
   "source": [
    "# Train the Hybrid Inceptive-Conv-LSTM Model on the Time-Series Heatmap Data.\n",
    "num_epoch = 30\n",
    "model_stats = incptn_conv_lstm.fit(x=x_train, y=y_train, batch_size=int(N/4), epochs=num_epoch, validation_data=(x_val, y_val), callbacks=[cp_callback])"
   ]
  },
  {
   "cell_type": "code",
   "execution_count": 0,
   "metadata": {
    "colab": {},
    "colab_type": "code",
    "id": "IHvZKYMTKHU0"
   },
   "outputs": [],
   "source": [
    "# Part I - Cache loss data. (Initialize loss cache to track model training.)\n",
    "train_loss = model_stats.history['loss']\n",
    "val_loss = model_stats.history['val_loss']"
   ]
  },
  {
   "cell_type": "code",
   "execution_count": 0,
   "metadata": {
    "colab": {},
    "colab_type": "code",
    "id": "NGvk6lArEn-c"
   },
   "outputs": [],
   "source": [
    "# Part II - Append loss data to cache. (To collect loss data through multiple training sessions.)\n",
    "train_loss = train_loss + model_stats.history['loss']\n",
    "val_loss = val_loss + model_stats.history['val_loss']"
   ]
  },
  {
   "cell_type": "code",
   "execution_count": 0,
   "metadata": {
    "colab": {},
    "colab_type": "code",
    "id": "MeSI75LQGBB-"
   },
   "outputs": [],
   "source": [
    "# Part III - Export loss data for analysis or preservation.\n",
    "np.save(\"/content/drive/My Drive/pred_results/train_loss\", train_loss)\n",
    "np.save(\"/content/drive/My Drive/pred_results/val_loss\", val_loss)"
   ]
  },
  {
   "cell_type": "code",
   "execution_count": 0,
   "metadata": {
    "colab": {},
    "colab_type": "code",
    "id": "BAi-QtZCBm5m"
   },
   "outputs": [],
   "source": [
    "# Part IV - Load loss statistics.\n",
    "train_loss = np.load(\"/content/drive/My Drive/pred_results/train_loss\")\n",
    "val_loss = np.load(\"/content/drive/My Drive/pred_results/val_loss\")"
   ]
  },
  {
   "cell_type": "code",
   "execution_count": 0,
   "metadata": {
    "colab": {
     "base_uri": "https://localhost:8080/",
     "height": 747
    },
    "colab_type": "code",
    "id": "3f_D3Qx73SOr",
    "outputId": "e915a8aa-55f4-4eeb-c3bb-7d19996fdb6b"
   },
   "outputs": [
    {
     "data": {
      "text/plain": [
       "Text(0, 0.5, 'Mean-Squared Error Validation Loss')"
      ]
     },
     "execution_count": 32,
     "metadata": {
      "tags": []
     },
     "output_type": "execute_result"
    },
    {
     "data": {
      "image/png": "[encoded data removed]",
      "text/plain": [
       "<Figure size 720x864 with 2 Axes>"
      ]
     },
     "metadata": {
      "tags": []
     },
     "output_type": "display_data"
    }
   ],
   "source": [
    "# Output loss statistics. Plot training and validation loss over epochs.\n",
    "plt.rcParams['figure.figsize'] = (10.0, 12.0) # set default size of plots\n",
    "plt.subplots_adjust(hspace = 0.3)\n",
    "# Training Loss\n",
    "plt.subplot(2,1,1)\n",
    "plt.plot(range(len(train_loss)), train_loss)\n",
    "plt.title('Inception-Convolutional LSTM w/ Thresholded Nesterov SGD')\n",
    "plt.xlabel('Training Epochs')\n",
    "plt.ylabel('Mean-Squared Error Training Loss')\n",
    "# Validation Loss\n",
    "plt.subplot(2,1,2)\n",
    "plt.plot(range(len(val_loss)), val_loss)\n",
    "plt.title('Inception-Convolutional LSTM w/ Thresholded Nesterov SGD')\n",
    "plt.xlabel('Training Epochs')\n",
    "plt.ylabel('Mean-Squared Error Validation Loss')"
   ]
  },
  {
   "cell_type": "code",
   "execution_count": 0,
   "metadata": {
    "colab": {},
    "colab_type": "code",
    "id": "sanyAHtJ_tJP"
   },
   "outputs": [],
   "source": [
    "# Save model manually. (Deletes the optimal model! Sometimes desirable if the model is close to prior optimal, but needs more training without overwriting descent progress.)\n",
    "incptn_conv_lstm.save(cp_path)"
   ]
  },
  {
   "cell_type": "code",
   "execution_count": 0,
   "metadata": {
    "colab": {
     "base_uri": "https://localhost:8080/",
     "height": 655
    },
    "colab_type": "code",
    "id": "o7pvzzmy4t-B",
    "outputId": "f1169a72-022f-4bcb-e347-9183e6af8c6d"
   },
   "outputs": [
    {
     "name": "stdout",
     "output_type": "stream",
     "text": [
      "Model: \"sequential_5\"\n",
      "_________________________________________________________________\n",
      "Layer (type)                 Output Shape              Param #   \n",
      "=================================================================\n",
      "time_distributed_33 (TimeDis (None, 15, 121, 121, 91)  32672     \n",
      "_________________________________________________________________\n",
      "conv_lst_m2d_17 (ConvLSTM2D) (None, 15, 121, 121, 31)  136276    \n",
      "_________________________________________________________________\n",
      "time_distributed_34 (TimeDis (None, 15, 121, 121, 31)  124       \n",
      "_________________________________________________________________\n",
      "time_distributed_35 (TimeDis (None, 15, 121, 121, 91)  32672     \n",
      "_________________________________________________________________\n",
      "conv_lst_m2d_18 (ConvLSTM2D) (None, 15, 121, 121, 31)  136276    \n",
      "_________________________________________________________________\n",
      "time_distributed_36 (TimeDis (None, 15, 121, 121, 31)  124       \n",
      "_________________________________________________________________\n",
      "time_distributed_37 (TimeDis (None, 15, 121, 121, 91)  32672     \n",
      "_________________________________________________________________\n",
      "conv_lst_m2d_19 (ConvLSTM2D) (None, 15, 121, 121, 31)  136276    \n",
      "_________________________________________________________________\n",
      "time_distributed_38 (TimeDis (None, 15, 121, 121, 31)  124       \n",
      "_________________________________________________________________\n",
      "time_distributed_39 (TimeDis (None, 15, 121, 121, 91)  32672     \n",
      "_________________________________________________________________\n",
      "conv_lst_m2d_20 (ConvLSTM2D) (None, 121, 121, 31)      136276    \n",
      "_________________________________________________________________\n",
      "time_distributed_40 (TimeDis (None, 121, 121, 31)      124       \n",
      "_________________________________________________________________\n",
      "conv2d_25 (Conv2D)           (None, 121, 121, 1)       280       \n",
      "_________________________________________________________________\n",
      "reshape_5 (Reshape)          (None, 121, 121)          0         \n",
      "_________________________________________________________________\n",
      "leaky_re_lu_5 (LeakyReLU)    (None, 121, 121)          0         \n",
      "=================================================================\n",
      "Total params: 676,568\n",
      "Trainable params: 676,320\n",
      "Non-trainable params: 248\n",
      "_________________________________________________________________\n"
     ]
    }
   ],
   "source": [
    "# Load optimal pre-trained model.\n",
    "incptn_conv_lstm_opt = load_model(cp_path)\n",
    "incptn_conv_lstm_opt.summary()"
   ]
  },
  {
   "cell_type": "code",
   "execution_count": 0,
   "metadata": {
    "colab": {
     "base_uri": "https://localhost:8080/",
     "height": 50
    },
    "colab_type": "code",
    "id": "IeW1HPSHr2W5",
    "outputId": "a0697808-0cd6-4e20-a106-618fe5f19e32"
   },
   "outputs": [
    {
     "name": "stdout",
     "output_type": "stream",
     "text": [
      "\r",
      "1/1 [==============================] - 3s 3s/step\n",
      "Average Test Loss:  9.647385597229004\n"
     ]
    }
   ],
   "source": [
    "# Test the trained model. Print test loss for all test sets.\n",
    "pred = incptn_conv_lstm_opt.predict(x_test)\n",
    "print(\"Average Test Loss: \", incptn_conv_lstm_opt.evaluate(x_test, np.log(y_test + eps + 1)))\n",
    "\n",
    "# Rectify and un-normalize the output data.\n",
    "pred = np.exp(pred) - eps - 1\n",
    "pred[pred < eps] = 0\n",
    "\n",
    "# Export the heatmaps.\n",
    "path = \"/content/drive/My Drive/pred_results\"\n",
    "for ts in range(len(y_test)):\n",
    "  np.savetxt(path + '/' + \"pred_heatmap_{}.csv\".format(ts), pred[ts], delimiter=\",\")\n",
    "  np.savetxt(path + '/' + \"test_heatmap_{}.csv\".format(ts), y_test[ts], delimiter=\",\")"
   ]
  },
  {
   "cell_type": "code",
   "execution_count": 0,
   "metadata": {
    "colab": {},
    "colab_type": "code",
    "id": "zbaZ6TSzYk_9"
   },
   "outputs": [],
   "source": [
    "\"\"\"\n",
    "[Deep / Wide Convolutional Inception Module]\n",
    "Apply supporting convolutional inception filters to learn spatial features \n",
    "from the weighted heatmap. Derivation of GoogleNet Inception Module.\n",
    "\"\"\"\n",
    "# Initialize and reshape input. Assume feature maps are time-invariant. \n",
    "input = Input(shape=(S, S, K))\n",
    "\n",
    "# Lightweight Convolutional Inception Module (5-Path Filter) for Feature Mixing\n",
    "t1 = Conv2D(64, (1, 1), padding='same', data_format='channels_last')(input)\n",
    "\n",
    "t2 = Conv2D(32, (1, 1), padding='same', data_format='channels_last')(input)\n",
    "t2 = Conv2D(32, (3, 3), padding='same', data_format='channels_last')(t2)\n",
    "\n",
    "t3 = Conv2D(32, (1, 1), padding='same', data_format='channels_last')(input)\n",
    "t3 = Conv2D(16, (5, 5), padding='same', data_format='channels_last')(t3)\n",
    "\n",
    "t4 = Conv2D(32, (1, 1), padding='same', data_format='channels_last')(input)\n",
    "t4 = Conv2D(8, (11, 11), padding='same', data_format='channels_last')(t4)\n",
    "\n",
    "t5 = Conv2D(16, (1, 1), padding='same', data_format='channels_last')(input)\n",
    "t5 = Conv2D(2, (47, 47), padding='same', data_format='channels_last')(t5)\n",
    "\n",
    "t6 = MaxPooling2D(pool_size=(3,3), strides=(1,1), \n",
    "                  padding='same', data_format='channels_last')(input)\n",
    "t6 = Conv2D(8, (1, 1), padding='same', data_format='channels_last')(t6)\n",
    "\n",
    "# Compute output.\n",
    "output = concatenate([t1, t2, t3, t4, t5, t6])\n",
    "\n",
    "# Construct layer/model.\n",
    "deep_conv_incptn = Model(inputs=input, outputs=output)\n",
    "\n",
    "\"\"\"\n",
    "[Deep Spatio-Temporal Convolutional Neural Net for Imitation Learning]\n",
    "Reinforcement/Imitation Learning with time-distributed inception CNN to compare with the inception-convolutional LSTM.\n",
    "\n",
    "\"\"\"\n",
    "# Initialize Sequential().\n",
    "td_cnn = Sequential()\n",
    "\n",
    "# Insert a deep, time-distributed Inception-CNN.\n",
    "td_cnn.add(TimeDistributed(deep_conv_incptn, input_shape=(T, S, S, K)))\n",
    "td_cnn.add(TimeDistributed(BatchNormalization()))\n",
    "\n",
    "# Mix and compress features to 1.\n",
    "td_cnn.add(TimeDistributed(Conv2D(filters=K, kernel_size=(3, 3), padding='same', data_format='channels_last')))\n",
    "td_cnn.add(TimeDistributed(BatchNormalization()))\n",
    "td_cnn.add(TimeDistributed(Conv2D(filters=K, kernel_size=(3, 3), padding='same', data_format='channels_last')))\n",
    "td_cnn.add(TimeDistributed(BatchNormalization()))\n",
    "\n",
    "# Apply Conv3D layer(s) to mix spatio-temporal heatmap time-slices for Transitional Imitation Learning.\n",
    "# Layers sufficient for temporal receptive field > T.\n",
    "td_cnn.add(Conv3D(filters=T, kernel_size=(3, 3, 3), padding='same', data_format='channels_last'))\n",
    "td_cnn.add(TimeDistributed(BatchNormalization()))\n",
    "td_cnn.add(Conv3D(filters=5, kernel_size=(3, 3, 3), padding='same', data_format='channels_last'))\n",
    "td_cnn.add(TimeDistributed(BatchNormalization()))\n",
    "td_cnn.add(Conv3D(filters=1, kernel_size=(3, 3, 3), padding='same', data_format='channels_last'))\n",
    "td_cnn.add(TimeDistributed(BatchNormalization()))\n",
    "td_cnn.add(Reshape((T, S, S)))\n",
    "\n",
    "# Collapse time-dimension. Re-shape to heatmap.\n",
    "td_cnn.add(Permute((2, 3, 1)))\n",
    "td_cnn.add(Conv2D(filters=1, kernel_size=(3, 3), padding='same', data_format='channels_last'))\n",
    "td_cnn.add(Reshape((S, S)))\n",
    "\n",
    "# Weak LeakyReLU to avoid neuron death and approximate ReLU.\n",
    "td_cnn.add(LeakyReLU(alpha=0.1))\n",
    "\n",
    "# Compile the model. Nesterov SGD with thresholded gradient and MSE Loss.\n",
    "td_cnn.compile(optimizer=SGD(lr=1e-3, momentum=0.2, nesterov=True), loss=mean_squared_error)"
   ]
  },
  {
   "cell_type": "code",
   "execution_count": 0,
   "metadata": {
    "colab": {
     "base_uri": "https://localhost:8080/",
     "height": 722
    },
    "colab_type": "code",
    "id": "ToqfBdOT4GVs",
    "outputId": "20462118-ff78-4fe5-f2b7-778f1e67252c"
   },
   "outputs": [
    {
     "name": "stdout",
     "output_type": "stream",
     "text": [
      "Model: \"sequential_6\"\n",
      "_________________________________________________________________\n",
      "Layer (type)                 Output Shape              Param #   \n",
      "=================================================================\n",
      "time_distributed_41 (TimeDis (None, 15, 121, 121, 130) 129626    \n",
      "_________________________________________________________________\n",
      "time_distributed_42 (TimeDis (None, 15, 121, 121, 130) 520       \n",
      "_________________________________________________________________\n",
      "time_distributed_43 (TimeDis (None, 15, 121, 121, 31)  36301     \n",
      "_________________________________________________________________\n",
      "time_distributed_44 (TimeDis (None, 15, 121, 121, 31)  124       \n",
      "_________________________________________________________________\n",
      "time_distributed_45 (TimeDis (None, 15, 121, 121, 1)   280       \n",
      "_________________________________________________________________\n",
      "time_distributed_46 (TimeDis (None, 15, 121, 121, 1)   4         \n",
      "_________________________________________________________________\n",
      "conv3d_1 (Conv3D)            (None, 15, 121, 121, 15)  420       \n",
      "_________________________________________________________________\n",
      "time_distributed_47 (TimeDis (None, 15, 121, 121, 15)  60        \n",
      "_________________________________________________________________\n",
      "conv3d_2 (Conv3D)            (None, 15, 121, 121, 5)   2030      \n",
      "_________________________________________________________________\n",
      "time_distributed_48 (TimeDis (None, 15, 121, 121, 5)   20        \n",
      "_________________________________________________________________\n",
      "conv3d_3 (Conv3D)            (None, 15, 121, 121, 1)   136       \n",
      "_________________________________________________________________\n",
      "time_distributed_49 (TimeDis (None, 15, 121, 121, 1)   4         \n",
      "_________________________________________________________________\n",
      "reshape_6 (Reshape)          (None, 15, 121, 121)      0         \n",
      "_________________________________________________________________\n",
      "permute_1 (Permute)          (None, 121, 121, 15)      0         \n",
      "_________________________________________________________________\n",
      "conv2d_38 (Conv2D)           (None, 121, 121, 1)       136       \n",
      "_________________________________________________________________\n",
      "reshape_7 (Reshape)          (None, 121, 121)          0         \n",
      "_________________________________________________________________\n",
      "leaky_re_lu_6 (LeakyReLU)    (None, 121, 121)          0         \n",
      "=================================================================\n",
      "Total params: 169,661\n",
      "Trainable params: 169,295\n",
      "Non-trainable params: 366\n",
      "_________________________________________________________________\n"
     ]
    }
   ],
   "source": [
    "td_cnn.summary()"
   ]
  },
  {
   "cell_type": "code",
   "execution_count": 0,
   "metadata": {
    "colab": {},
    "colab_type": "code",
    "id": "XN_4r0xuqBD2"
   },
   "outputs": [],
   "source": [
    "# Set model checkpoint to save the trained model.\n",
    "cp_path_alt = \"/content/drive/My Drive/trained_models/incptn_conv_td\"\n",
    "cp_callback_alt = ModelCheckpoint(filepath=cp_path_alt, monitor='val_loss', save_weights_only=False, save_best_only=True, mode='min', period=1)"
   ]
  },
  {
   "cell_type": "code",
   "execution_count": 0,
   "metadata": {
    "colab": {},
    "colab_type": "code",
    "id": "-T_6Pk5PqW2W"
   },
   "outputs": [],
   "source": [
    "# Load pre-trained model. (Overwrites un-trained model!)\n",
    "td_cnn = load_model(cp_path_alt)\n",
    "td_cnn.summary()"
   ]
  },
  {
   "cell_type": "code",
   "execution_count": 0,
   "metadata": {
    "colab": {
     "base_uri": "https://localhost:8080/",
     "height": 1000
    },
    "colab_type": "code",
    "id": "CsflnNZ9qhf5",
    "outputId": "3fa94e8f-1fe0-49a4-d709-25b58fee4c57"
   },
   "outputs": [
    {
     "name": "stdout",
     "output_type": "stream",
     "text": [
      "Train on 38 samples, validate on 3 samples\n",
      "Epoch 1/30\n",
      "38/38 [==============================] - 362s 10s/step - loss: 7.3063 - val_loss: 4.3624\n",
      "Epoch 2/30\n",
      "38/38 [==============================] - 339s 9s/step - loss: 6.7507 - val_loss: 3.9257\n",
      "Epoch 3/30\n",
      "38/38 [==============================] - 338s 9s/step - loss: 6.4083 - val_loss: 3.7944\n",
      "Epoch 4/30\n",
      "38/38 [==============================] - 344s 9s/step - loss: 6.3291 - val_loss: 3.6859\n",
      "Epoch 5/30\n",
      "38/38 [==============================] - 344s 9s/step - loss: 6.2892 - val_loss: 3.6456\n",
      "Epoch 6/30\n",
      "38/38 [==============================] - 340s 9s/step - loss: 6.1995 - val_loss: 3.6152\n",
      "Epoch 7/30\n",
      "38/38 [==============================] - 346s 9s/step - loss: 6.2348 - val_loss: 3.5714\n",
      "Epoch 8/30\n",
      "38/38 [==============================] - 338s 9s/step - loss: 6.1698 - val_loss: 3.5783\n",
      "Epoch 9/30\n",
      "38/38 [==============================] - 340s 9s/step - loss: 6.2084 - val_loss: 3.5259\n",
      "Epoch 10/30\n",
      "38/38 [==============================] - 345s 9s/step - loss: 6.1680 - val_loss: 3.5375\n",
      "Epoch 11/30\n",
      "38/38 [==============================] - 347s 9s/step - loss: 6.1110 - val_loss: 3.5334\n",
      "Epoch 12/30\n",
      "38/38 [==============================] - 353s 9s/step - loss: 6.0877 - val_loss: 3.5610\n",
      "Epoch 13/30\n",
      "38/38 [==============================] - 341s 9s/step - loss: 6.0811 - val_loss: 3.6272\n",
      "Epoch 14/30\n",
      "38/38 [==============================] - 340s 9s/step - loss: 6.0636 - val_loss: 3.5966\n",
      "Epoch 15/30\n",
      "38/38 [==============================] - 343s 9s/step - loss: 6.1046 - val_loss: 3.6166\n",
      "Epoch 16/30\n",
      "38/38 [==============================] - 345s 9s/step - loss: 6.0570 - val_loss: 3.6110\n",
      "Epoch 17/30\n",
      "38/38 [==============================] - 338s 9s/step - loss: 6.0139 - val_loss: 3.6666\n",
      "Epoch 18/30\n",
      "38/38 [==============================] - 350s 9s/step - loss: 6.1185 - val_loss: 3.5649\n",
      "Epoch 19/30\n",
      "38/38 [==============================] - 340s 9s/step - loss: 6.0308 - val_loss: 3.6601\n",
      "Epoch 20/30\n",
      "38/38 [==============================] - 343s 9s/step - loss: 6.0366 - val_loss: 3.6186\n",
      "Epoch 21/30\n",
      "38/38 [==============================] - 346s 9s/step - loss: 6.0049 - val_loss: 3.5895\n",
      "Epoch 22/30\n",
      "38/38 [==============================] - 341s 9s/step - loss: 6.0045 - val_loss: 3.6234\n",
      "Epoch 23/30\n",
      "38/38 [==============================] - 349s 9s/step - loss: 5.9845 - val_loss: 3.5009\n",
      "Epoch 24/30\n",
      "38/38 [==============================] - 340s 9s/step - loss: 5.9406 - val_loss: 3.4846\n",
      "Epoch 25/30\n",
      "38/38 [==============================] - 337s 9s/step - loss: 5.9598 - val_loss: 3.4666\n",
      "Epoch 26/30\n",
      "38/38 [==============================] - 342s 9s/step - loss: 5.9953 - val_loss: 3.4999\n",
      "Epoch 27/30\n",
      "38/38 [==============================] - 346s 9s/step - loss: 5.9912 - val_loss: 3.4721\n",
      "Epoch 28/30\n",
      "38/38 [==============================] - 341s 9s/step - loss: 5.9816 - val_loss: 3.4043\n",
      "Epoch 29/30\n",
      "38/38 [==============================] - 349s 9s/step - loss: 5.9630 - val_loss: 3.4341\n",
      "Epoch 30/30\n",
      "38/38 [==============================] - 339s 9s/step - loss: 5.9674 - val_loss: 3.4227\n"
     ]
    }
   ],
   "source": [
    "# Train the Hybrid Inceptive-Conv-LSTM Model on the Time-Series Heatmap Data.\n",
    "num_epoch_alt = 30\n",
    "model_stats_alt = td_cnn.fit(x=x_train, y=y_train, batch_size=int(N/4), epochs=num_epoch_alt, validation_data=(x_val, y_val), callbacks=[cp_callback_alt])"
   ]
  },
  {
   "cell_type": "code",
   "execution_count": 0,
   "metadata": {
    "colab": {},
    "colab_type": "code",
    "id": "O3XBaA-eqwq2"
   },
   "outputs": [],
   "source": [
    "# Part I - Cache loss data. (Initialize loss cache to track model training.)\n",
    "train_loss_alt = model_stats_alt.history['loss']\n",
    "val_loss_alt = model_stats_alt.history['val_loss']"
   ]
  },
  {
   "cell_type": "code",
   "execution_count": 0,
   "metadata": {
    "colab": {},
    "colab_type": "code",
    "id": "Gp__v-_Xq3XY"
   },
   "outputs": [],
   "source": [
    "# Part II - Append loss data to cache. (To collect loss data through multiple training sessions.)\n",
    "train_loss_alt = train_loss_alt + model_stats_alt.history['loss']\n",
    "val_loss_alt = val_loss_alt + model_stats_alt.history['val_loss']"
   ]
  },
  {
   "cell_type": "code",
   "execution_count": 0,
   "metadata": {
    "colab": {},
    "colab_type": "code",
    "id": "dluLVdtUq_AT"
   },
   "outputs": [],
   "source": [
    "# Part III - Export loss data for analysis or preservation.\n",
    "np.save(\"/content/drive/My Drive/pred_results/train_loss_alt\", train_loss_alt)\n",
    "np.save(\"/content/drive/My Drive/pred_results/val_loss_alt\", val_loss_alt)"
   ]
  },
  {
   "cell_type": "code",
   "execution_count": 0,
   "metadata": {
    "colab": {},
    "colab_type": "code",
    "id": "6r_ynzifBYK3"
   },
   "outputs": [],
   "source": [
    "# Part IV - Load loss statistics.\n",
    "train_loss_alt = np.load(\"/content/drive/My Drive/pred_results/train_loss_alt.npy\")\n",
    "val_loss_alt = np.load(\"/content/drive/My Drive/pred_results/val_loss_alt.npy\")"
   ]
  },
  {
   "cell_type": "code",
   "execution_count": 0,
   "metadata": {
    "colab": {
     "base_uri": "https://localhost:8080/",
     "height": 747
    },
    "colab_type": "code",
    "id": "iqswW7AHrFo2",
    "outputId": "3791b4e6-7592-4a85-f3fc-ec1de99ab1de"
   },
   "outputs": [
    {
     "data": {
      "text/plain": [
       "Text(0, 0.5, 'Mean-Squared Error Validation Loss')"
      ]
     },
     "execution_count": 49,
     "metadata": {
      "tags": []
     },
     "output_type": "execute_result"
    },
    {
     "data": {
      "image/png": "[encoded data removed]",
      "text/plain": [
       "<Figure size 720x864 with 2 Axes>"
      ]
     },
     "metadata": {
      "tags": []
     },
     "output_type": "display_data"
    }
   ],
   "source": [
    "# Output loss statistics. Plot training and validation loss over epochs.\n",
    "plt.rcParams['figure.figsize'] = (10.0, 12.0) # set default size of plots\n",
    "plt.subplots_adjust(hspace = 0.3)\n",
    "# Training Loss\n",
    "plt.subplot(2,1,1)\n",
    "plt.plot(range(len(train_loss_alt)), train_loss_alt)\n",
    "plt.title('Inception-Convolutional Neural Net w/ Nesterov SGD')\n",
    "plt.xlabel('Training Epochs')\n",
    "plt.ylabel('Mean-Squared Error Training Loss')\n",
    "# Validation Loss\n",
    "plt.subplot(2,1,2)\n",
    "plt.plot(range(len(val_loss_alt)), val_loss_alt)\n",
    "plt.title('Inception-Convolutional Neural Net w/ Nesterov SGD')\n",
    "plt.xlabel('Training Epochs')\n",
    "plt.ylabel('Mean-Squared Error Validation Loss')"
   ]
  },
  {
   "cell_type": "code",
   "execution_count": 0,
   "metadata": {
    "colab": {},
    "colab_type": "code",
    "id": "PAcK6utarYE4"
   },
   "outputs": [],
   "source": [
    "# Save model manually. (Deletes the optimal model! Sometimes desirable if the model is close to prior optimal, but needs more training without overwriting descent progress.)\n",
    "td_cnn.save(cp_path_alt)"
   ]
  },
  {
   "cell_type": "code",
   "execution_count": 0,
   "metadata": {
    "colab": {
     "base_uri": "https://localhost:8080/",
     "height": 722
    },
    "colab_type": "code",
    "id": "5aKc9oq1radB",
    "outputId": "e804d3e5-95f4-4887-b313-ea979501ec57"
   },
   "outputs": [
    {
     "name": "stdout",
     "output_type": "stream",
     "text": [
      "Model: \"sequential_6\"\n",
      "_________________________________________________________________\n",
      "Layer (type)                 Output Shape              Param #   \n",
      "=================================================================\n",
      "time_distributed_41 (TimeDis (None, 15, 121, 121, 130) 129626    \n",
      "_________________________________________________________________\n",
      "time_distributed_42 (TimeDis (None, 15, 121, 121, 130) 520       \n",
      "_________________________________________________________________\n",
      "time_distributed_43 (TimeDis (None, 15, 121, 121, 31)  36301     \n",
      "_________________________________________________________________\n",
      "time_distributed_44 (TimeDis (None, 15, 121, 121, 31)  124       \n",
      "_________________________________________________________________\n",
      "time_distributed_45 (TimeDis (None, 15, 121, 121, 1)   280       \n",
      "_________________________________________________________________\n",
      "time_distributed_46 (TimeDis (None, 15, 121, 121, 1)   4         \n",
      "_________________________________________________________________\n",
      "conv3d_1 (Conv3D)            (None, 15, 121, 121, 15)  420       \n",
      "_________________________________________________________________\n",
      "time_distributed_47 (TimeDis (None, 15, 121, 121, 15)  60        \n",
      "_________________________________________________________________\n",
      "conv3d_2 (Conv3D)            (None, 15, 121, 121, 5)   2030      \n",
      "_________________________________________________________________\n",
      "time_distributed_48 (TimeDis (None, 15, 121, 121, 5)   20        \n",
      "_________________________________________________________________\n",
      "conv3d_3 (Conv3D)            (None, 15, 121, 121, 1)   136       \n",
      "_________________________________________________________________\n",
      "time_distributed_49 (TimeDis (None, 15, 121, 121, 1)   4         \n",
      "_________________________________________________________________\n",
      "reshape_6 (Reshape)          (None, 15, 121, 121)      0         \n",
      "_________________________________________________________________\n",
      "permute_1 (Permute)          (None, 121, 121, 15)      0         \n",
      "_________________________________________________________________\n",
      "conv2d_38 (Conv2D)           (None, 121, 121, 1)       136       \n",
      "_________________________________________________________________\n",
      "reshape_7 (Reshape)          (None, 121, 121)          0         \n",
      "_________________________________________________________________\n",
      "leaky_re_lu_6 (LeakyReLU)    (None, 121, 121)          0         \n",
      "=================================================================\n",
      "Total params: 169,661\n",
      "Trainable params: 169,295\n",
      "Non-trainable params: 366\n",
      "_________________________________________________________________\n"
     ]
    }
   ],
   "source": [
    "# Load optimal pre-trained model.\n",
    "td_cnn_opt = load_model(cp_path_alt)\n",
    "td_cnn_opt.summary()"
   ]
  },
  {
   "cell_type": "code",
   "execution_count": 0,
   "metadata": {
    "colab": {
     "base_uri": "https://localhost:8080/",
     "height": 50
    },
    "colab_type": "code",
    "id": "HTldllI1roZC",
    "outputId": "b6c543ee-fc31-4d58-80f2-aec61005815b"
   },
   "outputs": [
    {
     "name": "stdout",
     "output_type": "stream",
     "text": [
      "\r",
      "1/1 [==============================] - 3s 3s/step\n",
      "Average Test Loss:  13.345495223999023\n"
     ]
    }
   ],
   "source": [
    "# Test the trained model. Print test loss for all test sets.\n",
    "pred_alt = td_cnn_opt.predict(x_test)\n",
    "print(\"Average Test Loss: \", td_cnn_opt.evaluate(x_test, np.log(y_test + eps + 1)))\n",
    "\n",
    "# Rectify and un-normalize the output data.\n",
    "pred_alt = np.exp(pred_alt) - eps - 1\n",
    "pred_alt[pred_alt < eps] = 0\n",
    "\n",
    "# Export the heatmaps.\n",
    "path = \"/content/drive/My Drive/pred_results\"\n",
    "for ts in range(len(y_test)):\n",
    "  np.savetxt(path + '/' + \"pred_heatmap_alt_{}.csv\".format(ts), pred_alt[ts], delimiter=\",\")\n",
    "  np.savetxt(path + '/' + \"test_heatmap_alt_{}.csv\".format(ts), y_test[ts], delimiter=\",\")"
   ]
  }
 ],
 "metadata": {
  "accelerator": "TPU",
  "colab": {
   "collapsed_sections": [],
   "machine_shape": "hm",
   "name": "conv_lstm_heatmap_pred.ipynb",
   "provenance": []
  },
  "kernelspec": {
   "display_name": "Python 3",
   "language": "python",
   "name": "python3"
  },
  "language_info": {
   "codemirror_mode": {
    "name": "ipython",
    "version": 3
   },
   "file_extension": ".py",
   "mimetype": "text/x-python",
   "name": "python",
   "nbconvert_exporter": "python",
   "pygments_lexer": "ipython3",
   "version": "3.7.6"
  }
 },
 "nbformat": 4,
 "nbformat_minor": 1
}
